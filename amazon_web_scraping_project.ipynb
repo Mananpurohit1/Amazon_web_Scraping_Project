{
 "cells": [
  {
   "cell_type": "code",
   "execution_count": 28,
   "id": "d2202adb",
   "metadata": {},
   "outputs": [],
   "source": [
    "#importing all the libraries\n",
    "\n",
    "from bs4 import BeautifulSoup\n",
    "import requests\n",
    "import pandas as pd\n",
    "import numpy as np"
   ]
  },
  {
   "cell_type": "markdown",
   "id": "ddf7f283",
   "metadata": {},
   "source": [
    "# Scraping Data from Amazon  to   .CSV"
   ]
  },
  {
   "cell_type": "code",
   "execution_count": 29,
   "id": "98ad1722",
   "metadata": {},
   "outputs": [],
   "source": [
    "#adding the url for extraction\n",
    "\n",
    "URL = \"https://www.amazon.in/s?k=playstation+5&crid=1SMY8BDWG68QX&sprefix=playstation+%2Caps%2C279&ref=nb_sb_ss_ts-doa-p_1_12\""
   ]
  },
  {
   "cell_type": "code",
   "execution_count": 30,
   "id": "b99e4504",
   "metadata": {},
   "outputs": [],
   "source": [
    "#adding the User-agent\n",
    "\n",
    "HEADERS = ({\"User-Agent\":\"Mozilla/5.0 (Windows NT 10.0; Win64; x64) AppleWebKit/537.36 (KHTML, like Gecko) Chrome/116.0.0.0 Safari/537.36\", \"Accept-Language\": \"en-US, en;q=0.5\"})"
   ]
  },
  {
   "cell_type": "code",
   "execution_count": 31,
   "id": "dea586f0",
   "metadata": {},
   "outputs": [],
   "source": [
    "#http request for connecting to the  website\n",
    "\n",
    "webpage = requests.get(URL, headers=HEADERS)"
   ]
  },
  {
   "cell_type": "code",
   "execution_count": 32,
   "id": "ffdee71e",
   "metadata": {},
   "outputs": [
    {
     "data": {
      "text/plain": [
       "<Response [503]>"
      ]
     },
     "execution_count": 32,
     "metadata": {},
     "output_type": "execute_result"
    }
   ],
   "source": [
    "webpage\n"
   ]
  },
  {
   "cell_type": "code",
   "execution_count": 33,
   "id": "4b47b30e",
   "metadata": {},
   "outputs": [
    {
     "data": {
      "text/plain": [
       "bytes"
      ]
     },
     "execution_count": 33,
     "metadata": {},
     "output_type": "execute_result"
    }
   ],
   "source": [
    "type(webpage.content)"
   ]
  },
  {
   "cell_type": "code",
   "execution_count": 18,
   "id": "3dc27f59",
   "metadata": {},
   "outputs": [],
   "source": [
    "#converting the data into readable html format.\n",
    "\n",
    "soup = BeautifulSoup(webpage.content, \"html.parser\")"
   ]
  },
  {
   "cell_type": "code",
   "execution_count": 19,
   "id": "006c4cea",
   "metadata": {},
   "outputs": [
    {
     "data": {
      "text/plain": [
       "<html>\n",
       "<head>\n",
       "<title>503 - Service Unavailable Error</title>\n",
       "</head>\n",
       "<body bgcolor=\"#FFFFFF\" text=\"#000000\">\n",
       "<!--\n",
       "        To discuss automated access to Amazon data please contact api-services-support@amazon.com.\n",
       "        For information about migrating to our APIs refer to our Marketplace APIs at https://developer.amazonservices.in/ref=rm_5_sv, or our Product Advertising API at https://affiliate-program.amazon.in/gp/advertising/api/detail/main.html/ref=rm_5_ac for advertising use cases.\n",
       "-->\n",
       "<center>\n",
       "<a href=\"https://www.amazon.in/ref=cs_503_logo/\">\n",
       "<img alt=\"Amazon.in\" border=\"0\" height=\"45\" src=\"https://images-eu.ssl-images-amazon.com/images/G/31/x-locale/communities/people/logo.gif\" width=\"200\"/></a>\n",
       "<p align=\"center\">\n",
       "<font face=\"Verdana,Arial,Helvetica\">\n",
       "<font color=\"#CC6600\" size=\"+2\"><b>Oops!</b></font><br/>\n",
       "<b>It's rush hour and traffic is piling up on that page. Please try again in a short while.<br/>If you were trying to place an order, it will not have been processed at this time.</b><p>\n",
       "<img alt=\"*\" border=\"0\" height=\"9\" src=\"https://images-eu.ssl-images-amazon.com/images/G/02/x-locale/common/orange-arrow.gif\" width=\"10\"/>\n",
       "<b><a href=\"https://www.amazon.in/ref=cs_503_link/\">Go to the Amazon.in home page to continue shopping</a></b>\n",
       "</p></font>\n",
       "</p></center>\n",
       "</body>\n",
       "</html>"
      ]
     },
     "execution_count": 19,
     "metadata": {},
     "output_type": "execute_result"
    }
   ],
   "source": [
    "soup"
   ]
  },
  {
   "cell_type": "code",
   "execution_count": 20,
   "id": "acfeba36",
   "metadata": {},
   "outputs": [],
   "source": [
    "#fetch links in list of tag objects \n",
    "\n",
    "links = soup.find_all(\"a\", attrs={'class':'a-link-normal s-no-outline'})\n",
    "\n",
    "\n",
    "#store the link\n",
    "links_list=[]\n",
    "\n",
    "\n",
    "\n",
    "#loop for extracting product details from each link \n",
    "for link in links:\n",
    "    links_list.append(link.get('href'))"
   ]
  },
  {
   "cell_type": "markdown",
   "id": "92b04e9c",
   "metadata": {},
   "source": [
    "# Creating functions for extraction"
   ]
  },
  {
   "cell_type": "code",
   "execution_count": 21,
   "id": "fa8fda5d",
   "metadata": {},
   "outputs": [],
   "source": [
    "#Functions to extract product Title \n",
    "def get_title(soup):\n",
    "    \n",
    "    try: \n",
    "        #outer tag object \n",
    "        title = soup.find(\"span\", attrs={\"id\":\"productTitle\"})\n",
    "        \n",
    "        #inner navigatableString Object\n",
    "        title_value=title.text\n",
    "        \n",
    "        #title as a string value\n",
    "        title_string = title_value.strip()\n",
    "        \n",
    "    except AttributeError:\n",
    "        title_string=\"\"\n",
    "        \n",
    "    return title_string    \n",
    "\n",
    "\n",
    "# Function to extract Product Price\n",
    "def get_price(soup):\n",
    "\n",
    "    \n",
    "    try:\n",
    "        price = soup.find(\"span\", attrs={'id':'priceblock_ourprice'}).string.strip()\n",
    "\n",
    "    except AttributeError:\n",
    "\n",
    "        try:\n",
    "            # If there is some deal price\n",
    "            price = soup.find(\"span\", attrs={'id':'priceblock_dealprice'}).string.strip()\n",
    "\n",
    "        except:\n",
    "            price = \"\"\n",
    "\n",
    "    return price\n",
    "\n",
    "\n",
    "# Function to extract Product Rating\n",
    "def get_rating(soup):\n",
    "\n",
    "    try:\n",
    "        rating = soup.find(\"i\", attrs={'class':'a-icon a-icon-star a-star-4-5'}).string.strip()\n",
    "    \n",
    "    except AttributeError:\n",
    "        try:\n",
    "            rating = soup.find(\"span\", attrs={'class':'a-icon-alt'}).string.strip()\n",
    "        except:\n",
    "            rating = \"\"\t\n",
    "\n",
    "    return rating\n",
    "\n",
    "\n",
    "\n",
    "# Function to extract Number of User Reviews\n",
    "def get_review_count(soup):\n",
    "    try:\n",
    "        review_count = soup.find(\"span\", attrs={'id':'acrCustomerReviewText'}).string.strip()\n",
    "\n",
    "    except AttributeError:\n",
    "        review_count = \"\"\t\n",
    "\n",
    "    return review_count\n",
    "\n",
    "\n",
    "# Function to extract Availability Status\n",
    "def get_availability(soup):\n",
    "    try:\n",
    "        available = soup.find(\"div\", attrs={'id':'availability'})\n",
    "        available = available.find(\"span\").string.strip()\n",
    "\n",
    "    except AttributeError:\n",
    "        available = \"Not Available\"\t\n",
    "\n",
    "    return available\n"
   ]
  },
  {
   "cell_type": "markdown",
   "id": "88283431",
   "metadata": {},
   "source": [
    "# Appending values to the dictionary"
   ]
  },
  {
   "cell_type": "code",
   "execution_count": 22,
   "id": "36e8d588",
   "metadata": {},
   "outputs": [],
   "source": [
    "d={\"Title\":[], \"Price\":[], \"Rating\":[], \"Reviews\":[], \"Availability\":[]}\n",
    "\n",
    "#loop for extracting product information from the links \n",
    "for link in links_list:\n",
    "    new_webpage = requests.get(\"https://www.amazon.in\" + link , headers=HEADERS)\n",
    "    \n",
    "    new_soup = BeautifulSoup(new_webpage.content, \"html.parser\")\n",
    "    \n",
    "    #function calls to display all necessary product information\n",
    "    d['Title'].append(get_title(new_soup))\n",
    "    d['Price'].append(get_price(new_soup))\n",
    "    d['Rating'].append(get_rating(new_soup))\n",
    "    d['Reviews'].append(get_review_count(new_soup))\n",
    "    d['Availability'].append(get_availability(new_soup))\n",
    "    "
   ]
  },
  {
   "cell_type": "code",
   "execution_count": 23,
   "id": "ecbcb9c2",
   "metadata": {},
   "outputs": [],
   "source": [
    "amazon_df = pd.DataFrame.from_dict(d)\n",
    "amazon_df['Title'].replace('', np.nan, inplace=True)\n",
    "amazon_df = amazon_df.dropna(subset=['Title'])"
   ]
  },
  {
   "cell_type": "code",
   "execution_count": 24,
   "id": "0bcc7c79",
   "metadata": {},
   "outputs": [
    {
     "data": {
      "text/html": [
       "<div>\n",
       "<style scoped>\n",
       "    .dataframe tbody tr th:only-of-type {\n",
       "        vertical-align: middle;\n",
       "    }\n",
       "\n",
       "    .dataframe tbody tr th {\n",
       "        vertical-align: top;\n",
       "    }\n",
       "\n",
       "    .dataframe thead th {\n",
       "        text-align: right;\n",
       "    }\n",
       "</style>\n",
       "<table border=\"1\" class=\"dataframe\">\n",
       "  <thead>\n",
       "    <tr style=\"text-align: right;\">\n",
       "      <th></th>\n",
       "      <th>Title</th>\n",
       "      <th>Price</th>\n",
       "      <th>Rating</th>\n",
       "      <th>Reviews</th>\n",
       "      <th>Availability</th>\n",
       "    </tr>\n",
       "  </thead>\n",
       "  <tbody>\n",
       "  </tbody>\n",
       "</table>\n",
       "</div>"
      ],
      "text/plain": [
       "Empty DataFrame\n",
       "Columns: [Title, Price, Rating, Reviews, Availability]\n",
       "Index: []"
      ]
     },
     "execution_count": 24,
     "metadata": {},
     "output_type": "execute_result"
    }
   ],
   "source": [
    "amazon_df"
   ]
  },
  {
   "cell_type": "code",
   "execution_count": null,
   "id": "fe50cd25",
   "metadata": {},
   "outputs": [],
   "source": []
  }
 ],
 "metadata": {
  "kernelspec": {
   "display_name": "Python 3 (ipykernel)",
   "language": "python",
   "name": "python3"
  },
  "language_info": {
   "codemirror_mode": {
    "name": "ipython",
    "version": 3
   },
   "file_extension": ".py",
   "mimetype": "text/x-python",
   "name": "python",
   "nbconvert_exporter": "python",
   "pygments_lexer": "ipython3",
   "version": "3.9.13"
  }
 },
 "nbformat": 4,
 "nbformat_minor": 5
}
